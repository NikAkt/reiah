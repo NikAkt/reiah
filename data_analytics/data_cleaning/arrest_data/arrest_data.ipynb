{
 "cells": [
  {
   "cell_type": "code",
   "execution_count": 17,
   "metadata": {},
   "outputs": [],
   "source": [
    "import pandas as pd"
   ]
  },
  {
   "cell_type": "code",
   "execution_count": 18,
   "metadata": {},
   "outputs": [
    {
     "name": "stdout",
     "output_type": "stream",
     "text": [
      "<class 'pandas.core.frame.DataFrame'>\n",
      "RangeIndex: 5719506 entries, 0 to 5719505\n",
      "Data columns (total 8 columns):\n",
      " #   Column           Dtype  \n",
      "---  ------           -----  \n",
      " 0   Arrest Date      object \n",
      " 1   Borough          object \n",
      " 2   Arrest Precinct  int64  \n",
      " 3   X_COORD_CD       float64\n",
      " 4   Y_COORD_CD       float64\n",
      " 5   Latitude         float64\n",
      " 6   Longitude        float64\n",
      " 7   Zip              int64  \n",
      "dtypes: float64(4), int64(2), object(2)\n",
      "memory usage: 349.1+ MB\n"
     ]
    }
   ],
   "source": [
    "arrest_data = pd.read_csv('cleaned_arrest_data.csv')\n",
    "arrest_data.info()"
   ]
  },
  {
   "cell_type": "code",
   "execution_count": 19,
   "metadata": {},
   "outputs": [],
   "source": [
    "# Remove rows with the specific zip codes to be excluded\n",
    "zipcodes_to_exclude = [7002, 7008, 7020, 7077]\n",
    "arrest_data_cleaned = arrest_data[~arrest_data['Zip'].isin(zipcodes_to_exclude)]"
   ]
  },
  {
   "cell_type": "code",
   "execution_count": 20,
   "metadata": {},
   "outputs": [],
   "source": [
    "# Ensure zipcode is of string type\n",
    "arrest_data['Zip'] = arrest_data['Zip'].astype(str)"
   ]
  },
  {
   "cell_type": "code",
   "execution_count": 21,
   "metadata": {},
   "outputs": [
    {
     "name": "stderr",
     "output_type": "stream",
     "text": [
      "C:\\Users\\simon\\AppData\\Local\\Temp\\ipykernel_18216\\3949830487.py:2: SettingWithCopyWarning: \n",
      "A value is trying to be set on a copy of a slice from a DataFrame.\n",
      "Try using .loc[row_indexer,col_indexer] = value instead\n",
      "\n",
      "See the caveats in the documentation: https://pandas.pydata.org/pandas-docs/stable/user_guide/indexing.html#returning-a-view-versus-a-copy\n",
      "  arrest_data_cleaned['year'] = pd.to_datetime(arrest_data_cleaned['Arrest Date']).dt.year\n"
     ]
    }
   ],
   "source": [
    "# Extract the year from the date column\n",
    "arrest_data_cleaned['year'] = pd.to_datetime(arrest_data_cleaned['Arrest Date']).dt.year"
   ]
  },
  {
   "cell_type": "code",
   "execution_count": 22,
   "metadata": {},
   "outputs": [],
   "source": [
    "# Group by year and zipcode, summing the number of arrests\n",
    "arrest_data_yearly = arrest_data_cleaned.groupby(['year', 'Zip']).size().reset_index(name='num_arrests')"
   ]
  },
  {
   "cell_type": "code",
   "execution_count": 23,
   "metadata": {},
   "outputs": [],
   "source": [
    "# Rename columns\n",
    "arrest_data_yearly.columns = ['year', 'zipcode', 'num_arrests']"
   ]
  },
  {
   "cell_type": "code",
   "execution_count": 24,
   "metadata": {},
   "outputs": [
    {
     "data": {
      "text/html": [
       "<div>\n",
       "<style scoped>\n",
       "    .dataframe tbody tr th:only-of-type {\n",
       "        vertical-align: middle;\n",
       "    }\n",
       "\n",
       "    .dataframe tbody tr th {\n",
       "        vertical-align: top;\n",
       "    }\n",
       "\n",
       "    .dataframe thead th {\n",
       "        text-align: right;\n",
       "    }\n",
       "</style>\n",
       "<table border=\"1\" class=\"dataframe\">\n",
       "  <thead>\n",
       "    <tr style=\"text-align: right;\">\n",
       "      <th></th>\n",
       "      <th>year</th>\n",
       "      <th>zipcode</th>\n",
       "      <th>num_arrests</th>\n",
       "    </tr>\n",
       "  </thead>\n",
       "  <tbody>\n",
       "    <tr>\n",
       "      <th>0</th>\n",
       "      <td>2006</td>\n",
       "      <td>10001</td>\n",
       "      <td>1803</td>\n",
       "    </tr>\n",
       "    <tr>\n",
       "      <th>1</th>\n",
       "      <td>2006</td>\n",
       "      <td>10002</td>\n",
       "      <td>2813</td>\n",
       "    </tr>\n",
       "    <tr>\n",
       "      <th>2</th>\n",
       "      <td>2006</td>\n",
       "      <td>10003</td>\n",
       "      <td>2993</td>\n",
       "    </tr>\n",
       "    <tr>\n",
       "      <th>3</th>\n",
       "      <td>2006</td>\n",
       "      <td>10005</td>\n",
       "      <td>1688</td>\n",
       "    </tr>\n",
       "    <tr>\n",
       "      <th>4</th>\n",
       "      <td>2006</td>\n",
       "      <td>10009</td>\n",
       "      <td>2676</td>\n",
       "    </tr>\n",
       "    <tr>\n",
       "      <th>...</th>\n",
       "      <td>...</td>\n",
       "      <td>...</td>\n",
       "      <td>...</td>\n",
       "    </tr>\n",
       "    <tr>\n",
       "      <th>3454</th>\n",
       "      <td>2023</td>\n",
       "      <td>11691</td>\n",
       "      <td>1478</td>\n",
       "    </tr>\n",
       "    <tr>\n",
       "      <th>3455</th>\n",
       "      <td>2023</td>\n",
       "      <td>11692</td>\n",
       "      <td>419</td>\n",
       "    </tr>\n",
       "    <tr>\n",
       "      <th>3456</th>\n",
       "      <td>2023</td>\n",
       "      <td>11693</td>\n",
       "      <td>731</td>\n",
       "    </tr>\n",
       "    <tr>\n",
       "      <th>3457</th>\n",
       "      <td>2023</td>\n",
       "      <td>11694</td>\n",
       "      <td>203</td>\n",
       "    </tr>\n",
       "    <tr>\n",
       "      <th>3458</th>\n",
       "      <td>2023</td>\n",
       "      <td>11697</td>\n",
       "      <td>11</td>\n",
       "    </tr>\n",
       "  </tbody>\n",
       "</table>\n",
       "<p>3459 rows × 3 columns</p>\n",
       "</div>"
      ],
      "text/plain": [
       "      year  zipcode  num_arrests\n",
       "0     2006    10001         1803\n",
       "1     2006    10002         2813\n",
       "2     2006    10003         2993\n",
       "3     2006    10005         1688\n",
       "4     2006    10009         2676\n",
       "...    ...      ...          ...\n",
       "3454  2023    11691         1478\n",
       "3455  2023    11692          419\n",
       "3456  2023    11693          731\n",
       "3457  2023    11694          203\n",
       "3458  2023    11697           11\n",
       "\n",
       "[3459 rows x 3 columns]"
      ]
     },
     "execution_count": 24,
     "metadata": {},
     "output_type": "execute_result"
    }
   ],
   "source": [
    "arrest_data_yearly"
   ]
  },
  {
   "cell_type": "code",
   "execution_count": 25,
   "metadata": {},
   "outputs": [],
   "source": [
    "arrest_data_yearly.to_csv('arrest_model.csv', index=False)"
   ]
  }
 ],
 "metadata": {
  "kernelspec": {
   "display_name": "Python 3",
   "language": "python",
   "name": "python3"
  },
  "language_info": {
   "codemirror_mode": {
    "name": "ipython",
    "version": 3
   },
   "file_extension": ".py",
   "mimetype": "text/x-python",
   "name": "python",
   "nbconvert_exporter": "python",
   "pygments_lexer": "ipython3",
   "version": "3.12.2"
  }
 },
 "nbformat": 4,
 "nbformat_minor": 2
}
