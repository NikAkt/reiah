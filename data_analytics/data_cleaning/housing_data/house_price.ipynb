{
 "cells": [
  {
   "cell_type": "code",
   "execution_count": 26,
   "metadata": {},
   "outputs": [],
   "source": [
    "import pandas as pd\n",
    "import json\n",
    "from uszipcode import SearchEngine\n",
    "\n",
    "\n",
    "search = SearchEngine(simple_or_comprehensive=SearchEngine.SimpleOrComprehensiveArgEnum.comprehensive)\n",
    "\n",
    "# Fetch NY zipcodes\n",
    "zipcodes = search.by_state(\"NY\", returns=None)\n",
    "\n",
    "# collect info\n",
    "zipcode_info_list = []\n",
    "for zipcode in zipcodes:\n",
    "    zipcode_info = zipcode.to_dict()\n",
    "    zipcode_info_list.append(zipcode_info)\n",
    "\n",
    "# Convert dictionaries to a DataFrame\n",
    "df = pd.DataFrame(zipcode_info_list)"
   ]
  },
  {
   "cell_type": "code",
   "execution_count": 27,
   "metadata": {},
   "outputs": [],
   "source": [
    "columns_to_keep = [\n",
    "    \"zipcode\", \"lat\", \"lng\", \"population\",  \"population_density\", \"median_home_value\", \"median_household_income\"\n",
    "]"
   ]
  },
  {
   "cell_type": "code",
   "execution_count": 28,
   "metadata": {},
   "outputs": [],
   "source": [
    "df_cleaned = df[columns_to_keep]\n"
   ]
  },
  {
   "cell_type": "code",
   "execution_count": 29,
   "metadata": {},
   "outputs": [
    {
     "data": {
      "text/plain": [
       "(1668, 7)"
      ]
     },
     "execution_count": 29,
     "metadata": {},
     "output_type": "execute_result"
    }
   ],
   "source": [
    "df_cleaned.shape"
   ]
  },
  {
   "cell_type": "code",
   "execution_count": 30,
   "metadata": {},
   "outputs": [
    {
     "name": "stdout",
     "output_type": "stream",
     "text": [
      "Number of duplicate (excluding original) rows is: 0\n",
      "Number of duplicate rows (including first) in the table is: 0\n"
     ]
    },
    {
     "data": {
      "text/html": [
       "<div>\n",
       "<style scoped>\n",
       "    .dataframe tbody tr th:only-of-type {\n",
       "        vertical-align: middle;\n",
       "    }\n",
       "\n",
       "    .dataframe tbody tr th {\n",
       "        vertical-align: top;\n",
       "    }\n",
       "\n",
       "    .dataframe thead th {\n",
       "        text-align: right;\n",
       "    }\n",
       "</style>\n",
       "<table border=\"1\" class=\"dataframe\">\n",
       "  <thead>\n",
       "    <tr style=\"text-align: right;\">\n",
       "      <th></th>\n",
       "      <th>zipcode</th>\n",
       "      <th>lat</th>\n",
       "      <th>lng</th>\n",
       "      <th>population</th>\n",
       "      <th>population_density</th>\n",
       "      <th>median_home_value</th>\n",
       "      <th>median_household_income</th>\n",
       "    </tr>\n",
       "  </thead>\n",
       "  <tbody>\n",
       "  </tbody>\n",
       "</table>\n",
       "</div>"
      ],
      "text/plain": [
       "Empty DataFrame\n",
       "Columns: [zipcode, lat, lng, population, population_density, median_home_value, median_household_income]\n",
       "Index: []"
      ]
     },
     "execution_count": 30,
     "metadata": {},
     "output_type": "execute_result"
    }
   ],
   "source": [
    "# check duplicated rows\n",
    "print('Number of duplicate (excluding original) rows is:', df_cleaned.duplicated().sum())\n",
    "print('Number of duplicate rows (including first) in the table is:', df_cleaned[df_cleaned.duplicated(keep=False)].shape[0])\n",
    "# Show duplicate row data that can be dropped\n",
    "df_cleaned[df_cleaned.duplicated(keep=False)]"
   ]
  },
  {
   "cell_type": "code",
   "execution_count": 31,
   "metadata": {},
   "outputs": [
    {
     "name": "stdout",
     "output_type": "stream",
     "text": [
      "Rows with missing values:\n",
      "     zipcode    lat    lng  population  population_density  median_home_value  \\\n",
      "13     10015  40.71 -74.00         NaN                 NaN                NaN   \n",
      "18     10020  40.76 -73.98         NaN                 NaN                NaN   \n",
      "39     10041  40.71 -73.99         NaN                 NaN                NaN   \n",
      "41     10045  40.71 -73.99         NaN                 NaN                NaN   \n",
      "42     10048  40.71 -74.01         NaN                 NaN                NaN   \n",
      "...      ...    ...    ...         ...                 ...                ...   \n",
      "1520   14604  43.16 -77.61         NaN                 NaN                NaN   \n",
      "1530   14614  43.16 -77.62         NaN                 NaN                NaN   \n",
      "1631   14853  42.45 -76.48         NaN                 NaN                NaN   \n",
      "1650   14881  42.40 -76.36         NaN                 NaN                NaN   \n",
      "1667   14925  42.08 -76.80         NaN                 NaN                NaN   \n",
      "\n",
      "      median_household_income  \n",
      "13                        NaN  \n",
      "18                        NaN  \n",
      "39                        NaN  \n",
      "41                        NaN  \n",
      "42                        NaN  \n",
      "...                       ...  \n",
      "1520                      NaN  \n",
      "1530                      NaN  \n",
      "1631                      NaN  \n",
      "1650                      NaN  \n",
      "1667                      NaN  \n",
      "\n",
      "[107 rows x 7 columns]\n"
     ]
    }
   ],
   "source": [
    "# Check \n",
    "missing_data = df_cleaned[df_cleaned.isnull().any(axis=1) | (df_cleaned == '').any(axis=1)]\n",
    "\n",
    "# Display \n",
    "print(\"Rows with missing values:\")\n",
    "print(missing_data)"
   ]
  },
  {
   "cell_type": "code",
   "execution_count": 32,
   "metadata": {},
   "outputs": [
    {
     "name": "stderr",
     "output_type": "stream",
     "text": [
      "C:\\Users\\simon\\AppData\\Local\\Temp\\ipykernel_21628\\667793641.py:1: FutureWarning: A value is trying to be set on a copy of a DataFrame or Series through chained assignment using an inplace method.\n",
      "The behavior will change in pandas 3.0. This inplace method will never work because the intermediate object on which we are setting values always behaves as a copy.\n",
      "\n",
      "For example, when doing 'df[col].method(value, inplace=True)', try using 'df.method({col: value}, inplace=True)' or df[col] = df[col].method(value) instead, to perform the operation inplace on the original object.\n",
      "\n",
      "\n",
      "  df_cleaned['population_density'].fillna(df_cleaned['population_density'].median(), inplace=True)\n",
      "C:\\Users\\simon\\AppData\\Local\\Temp\\ipykernel_21628\\667793641.py:1: SettingWithCopyWarning: \n",
      "A value is trying to be set on a copy of a slice from a DataFrame\n",
      "\n",
      "See the caveats in the documentation: https://pandas.pydata.org/pandas-docs/stable/user_guide/indexing.html#returning-a-view-versus-a-copy\n",
      "  df_cleaned['population_density'].fillna(df_cleaned['population_density'].median(), inplace=True)\n",
      "C:\\Users\\simon\\AppData\\Local\\Temp\\ipykernel_21628\\667793641.py:2: FutureWarning: A value is trying to be set on a copy of a DataFrame or Series through chained assignment using an inplace method.\n",
      "The behavior will change in pandas 3.0. This inplace method will never work because the intermediate object on which we are setting values always behaves as a copy.\n",
      "\n",
      "For example, when doing 'df[col].method(value, inplace=True)', try using 'df.method({col: value}, inplace=True)' or df[col] = df[col].method(value) instead, to perform the operation inplace on the original object.\n",
      "\n",
      "\n",
      "  df_cleaned['median_home_value'].fillna(df_cleaned['median_home_value'].median(), inplace=True)\n",
      "C:\\Users\\simon\\AppData\\Local\\Temp\\ipykernel_21628\\667793641.py:2: SettingWithCopyWarning: \n",
      "A value is trying to be set on a copy of a slice from a DataFrame\n",
      "\n",
      "See the caveats in the documentation: https://pandas.pydata.org/pandas-docs/stable/user_guide/indexing.html#returning-a-view-versus-a-copy\n",
      "  df_cleaned['median_home_value'].fillna(df_cleaned['median_home_value'].median(), inplace=True)\n",
      "C:\\Users\\simon\\AppData\\Local\\Temp\\ipykernel_21628\\667793641.py:3: FutureWarning: A value is trying to be set on a copy of a DataFrame or Series through chained assignment using an inplace method.\n",
      "The behavior will change in pandas 3.0. This inplace method will never work because the intermediate object on which we are setting values always behaves as a copy.\n",
      "\n",
      "For example, when doing 'df[col].method(value, inplace=True)', try using 'df.method({col: value}, inplace=True)' or df[col] = df[col].method(value) instead, to perform the operation inplace on the original object.\n",
      "\n",
      "\n",
      "  df_cleaned['median_household_income'].fillna(df_cleaned['median_household_income'].median(), inplace=True)\n",
      "C:\\Users\\simon\\AppData\\Local\\Temp\\ipykernel_21628\\667793641.py:3: SettingWithCopyWarning: \n",
      "A value is trying to be set on a copy of a slice from a DataFrame\n",
      "\n",
      "See the caveats in the documentation: https://pandas.pydata.org/pandas-docs/stable/user_guide/indexing.html#returning-a-view-versus-a-copy\n",
      "  df_cleaned['median_household_income'].fillna(df_cleaned['median_household_income'].median(), inplace=True)\n",
      "C:\\Users\\simon\\AppData\\Local\\Temp\\ipykernel_21628\\667793641.py:4: FutureWarning: A value is trying to be set on a copy of a DataFrame or Series through chained assignment using an inplace method.\n",
      "The behavior will change in pandas 3.0. This inplace method will never work because the intermediate object on which we are setting values always behaves as a copy.\n",
      "\n",
      "For example, when doing 'df[col].method(value, inplace=True)', try using 'df.method({col: value}, inplace=True)' or df[col] = df[col].method(value) instead, to perform the operation inplace on the original object.\n",
      "\n",
      "\n",
      "  df_cleaned['population'].fillna(df_cleaned['population'].median(), inplace=True)\n",
      "C:\\Users\\simon\\AppData\\Local\\Temp\\ipykernel_21628\\667793641.py:4: SettingWithCopyWarning: \n",
      "A value is trying to be set on a copy of a slice from a DataFrame\n",
      "\n",
      "See the caveats in the documentation: https://pandas.pydata.org/pandas-docs/stable/user_guide/indexing.html#returning-a-view-versus-a-copy\n",
      "  df_cleaned['population'].fillna(df_cleaned['population'].median(), inplace=True)\n"
     ]
    }
   ],
   "source": [
    "df_cleaned['population_density'].fillna(df_cleaned['population_density'].median(), inplace=True)\n",
    "df_cleaned['median_home_value'].fillna(df_cleaned['median_home_value'].median(), inplace=True)\n",
    "df_cleaned['median_household_income'].fillna(df_cleaned['median_household_income'].median(), inplace=True)\n",
    "df_cleaned['population'].fillna(df_cleaned['population'].median(), inplace=True)\n"
   ]
  },
  {
   "cell_type": "code",
   "execution_count": 36,
   "metadata": {},
   "outputs": [
    {
     "data": {
      "text/plain": [
       "zipcode                    0\n",
       "lat                        0\n",
       "lng                        0\n",
       "population                 0\n",
       "population_density         0\n",
       "median_home_value          0\n",
       "median_household_income    0\n",
       "dtype: int64"
      ]
     },
     "execution_count": 36,
     "metadata": {},
     "output_type": "execute_result"
    }
   ],
   "source": [
    "# verify\n",
    "df_cleaned.isnull().sum()\n"
   ]
  },
  {
   "cell_type": "code",
   "execution_count": 37,
   "metadata": {},
   "outputs": [],
   "source": [
    "df_cleaned.to_csv('cleaned_price_data.csv', index=False)"
   ]
  }
 ],
 "metadata": {
  "kernelspec": {
   "display_name": "Python 3",
   "language": "python",
   "name": "python3"
  },
  "language_info": {
   "codemirror_mode": {
    "name": "ipython",
    "version": 3
   },
   "file_extension": ".py",
   "mimetype": "text/x-python",
   "name": "python",
   "nbconvert_exporter": "python",
   "pygments_lexer": "ipython3",
   "version": "3.12.2"
  }
 },
 "nbformat": 4,
 "nbformat_minor": 2
}
