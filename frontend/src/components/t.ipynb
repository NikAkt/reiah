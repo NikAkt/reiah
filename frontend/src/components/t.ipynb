{
 "cells": [
  {
   "cell_type": "code",
   "execution_count": 33,
   "metadata": {},
   "outputs": [],
   "source": [
    "import json\n",
    "\n",
    "with open('/Users/caitlin/PycharmProjects/summer/SummerProject/frontend/public/assets/us_zip_codes.json') as f1:\n",
    "    position_data = json.load(f1)\n",
    "\n",
    "with open('/Users/caitlin/PycharmProjects/summer/SummerProject/frontend/public/assets/historic_real_estate_prices.json') as f2:\n",
    "    price_data = json.load(f2)\n",
    "\n",
    "new_data = []\n",
    "\n",
    "for arr in price_data:\n",
    "    new_dic = {\"zip_code\":arr[\"zipcode\"],\"price\":{},\"position\":{}}\n",
    "    filter_data = list(filter(lambda x: x['zip_code']==arr['zipcode'],position_data))\n",
    "    new_dic[\"position\"][\"latitude\"],new_dic[\"position\"][\"longitude\"] = position_data[0]['latitude'],position_data[0]['longitude']\n",
    "    for key in arr:\n",
    "        if '-' in key:\n",
    "            new_dic[\"price\"][key] = arr[key]\n",
    "    new_data.append(new_dic)\n",
    "\n",
    "json_data = json.dumps(new_data, indent=4)\n",
    "    "
   ]
  },
  {
   "cell_type": "code",
   "execution_count": 34,
   "metadata": {},
   "outputs": [],
   "source": [
    "output_file_path = '/Users/caitlin/PycharmProjects/summer/SummerProject/frontend/public/assets/historic_real_estate_prices.json'\n",
    "with open(output_file_path, 'w') as json_file:\n",
    "    json_file.write(json_data)"
   ]
  },
  {
   "cell_type": "code",
   "execution_count": null,
   "metadata": {},
   "outputs": [],
   "source": []
  }
 ],
 "metadata": {
  "kernelspec": {
   "display_name": "base",
   "language": "python",
   "name": "python3"
  },
  "language_info": {
   "codemirror_mode": {
    "name": "ipython",
    "version": 3
   },
   "file_extension": ".py",
   "mimetype": "text/x-python",
   "name": "python",
   "nbconvert_exporter": "python",
   "pygments_lexer": "ipython3",
   "version": "3.11.4"
  }
 },
 "nbformat": 4,
 "nbformat_minor": 2
}
