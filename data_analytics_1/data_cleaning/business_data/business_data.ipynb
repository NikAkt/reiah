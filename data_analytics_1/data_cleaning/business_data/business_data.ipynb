{
 "cells": [
  {
   "cell_type": "code",
   "execution_count": 7,
   "metadata": {},
   "outputs": [],
   "source": [
    "import pandas as pd\n",
    "import numpy as np"
   ]
  },
  {
   "cell_type": "code",
   "execution_count": 8,
   "metadata": {},
   "outputs": [
    {
     "name": "stderr",
     "output_type": "stream",
     "text": [
      "C:\\Users\\simon\\AppData\\Local\\Temp\\ipykernel_29160\\2642446586.py:1: DtypeWarning: Columns (19,20) have mixed types. Specify dtype option on import or set low_memory=False.\n",
      "  df = pd.read_csv('Legally_Operating_Businesses.csv', keep_default_na=True, delimiter=',', skipinitialspace=True)\n"
     ]
    }
   ],
   "source": [
    "df = pd.read_csv('Legally_Operating_Businesses.csv', keep_default_na=True, delimiter=',', skipinitialspace=True)"
   ]
  },
  {
   "cell_type": "code",
   "execution_count": 9,
   "metadata": {},
   "outputs": [],
   "source": [
    "# Convert 'License Expiration Date' and 'License Creation Date' to datetime\n",
    "df['License Expiration Date'] = pd.to_datetime(df['License Expiration Date'])\n",
    "df['License Creation Date'] = pd.to_datetime(df['License Creation Date'])"
   ]
  },
  {
   "cell_type": "code",
   "execution_count": 10,
   "metadata": {},
   "outputs": [],
   "source": [
    "# Filter out inactive businesses\n",
    "df = df.loc[df['License Status'] != 'Inactive']"
   ]
  },
  {
   "cell_type": "code",
   "execution_count": 11,
   "metadata": {},
   "outputs": [],
   "source": [
    "# Keep only necessary columns\n",
    "df = df[['Industry', 'Address ZIP', 'Longitude', 'Latitude', 'License Expiration Date', 'License Creation Date']]"
   ]
  },
  {
   "cell_type": "code",
   "execution_count": 12,
   "metadata": {},
   "outputs": [],
   "source": [
    "df['Address ZIP'] = pd.to_numeric(df['Address ZIP'], errors='coerce')"
   ]
  },
  {
   "cell_type": "code",
   "execution_count": 13,
   "metadata": {},
   "outputs": [],
   "source": [
    "# Remove businesses outside of New York City ZIP codes\n",
    "df = df[(df['Address ZIP'] >= 10001) & (df['Address ZIP'] <= 11697)]"
   ]
  },
  {
   "cell_type": "code",
   "execution_count": 14,
   "metadata": {},
   "outputs": [],
   "source": [
    "# Rename 'Address ZIP' to 'ZipCode' for consistency\n",
    "df = df.rename(columns={'Address ZIP': 'ZipCode'})"
   ]
  },
  {
   "cell_type": "code",
   "execution_count": 15,
   "metadata": {},
   "outputs": [],
   "source": [
    "# Group industries into broader categories\n",
    "industry_categories = {\n",
    "    'food_and_beverage': ['Catering Establishment', 'Sidewalk Cafe', 'Third Party Food Delivery'],\n",
    "    'entertainment_and_recreation': ['Gaming Cafe', 'Amusement Arcade', 'Cabaret', 'Bingo Game Operator', 'Amusement Device Permanent', 'Amusement Device Portable', 'Amusement Device Temporary', 'Games of Chance', 'Sightseeing Bus', 'Sightseeing Guide', 'Pool or Billiard Room'],\n",
    "    'parking_and_automotive_services': ['Car Wash', 'Booting Company', 'Garage', 'Garage and Parking Lot', 'Parking Lot', 'Secondhand Dealer - Auto', 'Tow Truck Company', 'Tow Truck Exemption', 'Tow Truck Driver'],\n",
    "    'professional_services': ['Employment Agency', 'Electronic & Appliance Service', 'General Vendor Distributor', 'Process Serving Agency', 'Scale Dealer Repairer', 'Scrap Metal Processor', 'General Vendor', 'Process Server Individual'],\n",
    "    'retail_services': ['Laundry', 'Laundries', 'Laundry Jobber', 'Newsstand', 'Electronics Store', 'Electronic Cigarette Dealer', 'Dealer In Products', 'Secondhand Dealer - Firearms', 'Secondhand Dealer - General', 'Tobacco Retail Dealer', 'Ticket Seller Business', 'Stoop Line Stand', 'Special Sale', 'Ticket Seller'],\n",
    "    'financial_services': ['Debt Collection Agency', 'Pawnbroker'],\n",
    "    'home_services': ['Construction Labor Provider', 'Home Improvement Contractor', 'Commercial Lessor', 'Auction House Premises', 'Storage Warehouse', 'Locksmith', 'Locksmith Apprentice', 'Home Improvement Salesperson', 'Auctioneer'],\n",
    "    'transportation': ['Horse Drawn Cab Owner', 'Pedicab Business', 'Pedicab Driver', 'Horse Drawn Driver']\n",
    "}"
   ]
  },
  {
   "cell_type": "code",
   "execution_count": 16,
   "metadata": {},
   "outputs": [],
   "source": [
    "# Function to categorize industries\n",
    "def categorize_industry(industry):\n",
    "    for category, industries in industry_categories.items():\n",
    "        if industry in industries:\n",
    "            return category\n",
    "    return 'other'\n",
    "\n",
    "# Apply the categorization\n",
    "df['BusinessType'] = df['Industry'].apply(categorize_industry)"
   ]
  },
  {
   "cell_type": "code",
   "execution_count": 17,
   "metadata": {},
   "outputs": [],
   "source": [
    "# Aggregate data by zipcode and business type\n",
    "business_by_zip = df.groupby(['ZipCode', 'BusinessType']).size().reset_index(name='Count')"
   ]
  },
  {
   "cell_type": "code",
   "execution_count": 18,
   "metadata": {},
   "outputs": [],
   "source": [
    "# Sort the dataframe\n",
    "business_by_zip = business_by_zip.sort_values(['ZipCode', 'BusinessType'])"
   ]
  },
  {
   "cell_type": "code",
   "execution_count": 19,
   "metadata": {},
   "outputs": [
    {
     "data": {
      "text/html": [
       "<div>\n",
       "<style scoped>\n",
       "    .dataframe tbody tr th:only-of-type {\n",
       "        vertical-align: middle;\n",
       "    }\n",
       "\n",
       "    .dataframe tbody tr th {\n",
       "        vertical-align: top;\n",
       "    }\n",
       "\n",
       "    .dataframe thead th {\n",
       "        text-align: right;\n",
       "    }\n",
       "</style>\n",
       "<table border=\"1\" class=\"dataframe\">\n",
       "  <thead>\n",
       "    <tr style=\"text-align: right;\">\n",
       "      <th></th>\n",
       "      <th>ZipCode</th>\n",
       "      <th>BusinessType</th>\n",
       "      <th>Count</th>\n",
       "    </tr>\n",
       "  </thead>\n",
       "  <tbody>\n",
       "    <tr>\n",
       "      <th>0</th>\n",
       "      <td>10001.0</td>\n",
       "      <td>entertainment_and_recreation</td>\n",
       "      <td>24</td>\n",
       "    </tr>\n",
       "    <tr>\n",
       "      <th>1</th>\n",
       "      <td>10001.0</td>\n",
       "      <td>financial_services</td>\n",
       "      <td>5</td>\n",
       "    </tr>\n",
       "    <tr>\n",
       "      <th>2</th>\n",
       "      <td>10001.0</td>\n",
       "      <td>home_services</td>\n",
       "      <td>97</td>\n",
       "    </tr>\n",
       "    <tr>\n",
       "      <th>3</th>\n",
       "      <td>10001.0</td>\n",
       "      <td>parking_and_automotive_services</td>\n",
       "      <td>41</td>\n",
       "    </tr>\n",
       "    <tr>\n",
       "      <th>4</th>\n",
       "      <td>10001.0</td>\n",
       "      <td>professional_services</td>\n",
       "      <td>46</td>\n",
       "    </tr>\n",
       "    <tr>\n",
       "      <th>...</th>\n",
       "      <td>...</td>\n",
       "      <td>...</td>\n",
       "      <td>...</td>\n",
       "    </tr>\n",
       "    <tr>\n",
       "      <th>1718</th>\n",
       "      <td>11694.0</td>\n",
       "      <td>retail_services</td>\n",
       "      <td>37</td>\n",
       "    </tr>\n",
       "    <tr>\n",
       "      <th>1719</th>\n",
       "      <td>11697.0</td>\n",
       "      <td>entertainment_and_recreation</td>\n",
       "      <td>1</td>\n",
       "    </tr>\n",
       "    <tr>\n",
       "      <th>1720</th>\n",
       "      <td>11697.0</td>\n",
       "      <td>home_services</td>\n",
       "      <td>8</td>\n",
       "    </tr>\n",
       "    <tr>\n",
       "      <th>1721</th>\n",
       "      <td>11697.0</td>\n",
       "      <td>professional_services</td>\n",
       "      <td>1</td>\n",
       "    </tr>\n",
       "    <tr>\n",
       "      <th>1722</th>\n",
       "      <td>11697.0</td>\n",
       "      <td>retail_services</td>\n",
       "      <td>1</td>\n",
       "    </tr>\n",
       "  </tbody>\n",
       "</table>\n",
       "<p>1723 rows × 3 columns</p>\n",
       "</div>"
      ],
      "text/plain": [
       "      ZipCode                     BusinessType  Count\n",
       "0     10001.0     entertainment_and_recreation     24\n",
       "1     10001.0               financial_services      5\n",
       "2     10001.0                    home_services     97\n",
       "3     10001.0  parking_and_automotive_services     41\n",
       "4     10001.0            professional_services     46\n",
       "...       ...                              ...    ...\n",
       "1718  11694.0                  retail_services     37\n",
       "1719  11697.0     entertainment_and_recreation      1\n",
       "1720  11697.0                    home_services      8\n",
       "1721  11697.0            professional_services      1\n",
       "1722  11697.0                  retail_services      1\n",
       "\n",
       "[1723 rows x 3 columns]"
      ]
     },
     "execution_count": 19,
     "metadata": {},
     "output_type": "execute_result"
    }
   ],
   "source": [
    "business_by_zip"
   ]
  },
  {
   "cell_type": "code",
   "execution_count": 20,
   "metadata": {},
   "outputs": [],
   "source": [
    "# Save to CSV\n",
    "business_by_zip.to_csv('cleaned_business_data.csv', index=False)"
   ]
  }
 ],
 "metadata": {
  "kernelspec": {
   "display_name": "Python 3",
   "language": "python",
   "name": "python3"
  },
  "language_info": {
   "codemirror_mode": {
    "name": "ipython",
    "version": 3
   },
   "file_extension": ".py",
   "mimetype": "text/x-python",
   "name": "python",
   "nbconvert_exporter": "python",
   "pygments_lexer": "ipython3",
   "version": "3.12.2"
  }
 },
 "nbformat": 4,
 "nbformat_minor": 2
}
