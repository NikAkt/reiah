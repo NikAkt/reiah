{
 "cells": [
  {
   "cell_type": "code",
   "execution_count": 2,
   "metadata": {},
   "outputs": [],
   "source": [
    "import pandas as pd\n",
    "import numpy as np\n",
    "import re"
   ]
  },
  {
   "cell_type": "code",
   "execution_count": 3,
   "metadata": {},
   "outputs": [],
   "source": [
    "df_arrests = pd.read_csv('arrest_data.csv')"
   ]
  },
  {
   "cell_type": "code",
   "execution_count": 4,
   "metadata": {},
   "outputs": [],
   "source": [
    "df_arrests['Arrest Date'] = pd.to_datetime(df_arrests['Arrest Date'])"
   ]
  },
  {
   "cell_type": "code",
   "execution_count": 5,
   "metadata": {},
   "outputs": [],
   "source": [
    "# Filter for 2022 and 2023 data\n",
    "df_arrests = df_arrests[df_arrests['Arrest Date'].dt.year.isin([2022, 2023])]"
   ]
  },
  {
   "cell_type": "code",
   "execution_count": 6,
   "metadata": {},
   "outputs": [],
   "source": [
    "# Function to validate zip codes\n",
    "def is_valid_zip(zip_code):\n",
    "    return bool(re.match(r'^\\d{5}$', str(zip_code)))\n",
    "\n",
    "# Remove invalid zips\n",
    "df_arrests = df_arrests[df_arrests['Zip'].apply(is_valid_zip)]"
   ]
  },
  {
   "cell_type": "code",
   "execution_count": 7,
   "metadata": {},
   "outputs": [],
   "source": [
    "# Create Year and Month columns\n",
    "df_arrests['Year'] = df_arrests['Arrest Date'].dt.year\n",
    "df_arrests['Month'] = df_arrests['Arrest Date'].dt.month"
   ]
  },
  {
   "cell_type": "code",
   "execution_count": 8,
   "metadata": {},
   "outputs": [],
   "source": [
    "# Group by Year, Zip, and Month, then count arrests\n",
    "arrests_by_zip_month = df_arrests.groupby(['Year', 'Zip', 'Month']).size().reset_index(name='ArrestCount')"
   ]
  },
  {
   "cell_type": "code",
   "execution_count": 9,
   "metadata": {},
   "outputs": [],
   "source": [
    "# Calculate average monthly counts for each year and zipcode\n",
    "arrests_by_zip_year = arrests_by_zip_month.groupby(['Year', 'Zip'])['ArrestCount'].mean().reset_index(name='AvgMonthlyArrests')"
   ]
  },
  {
   "cell_type": "code",
   "execution_count": 10,
   "metadata": {},
   "outputs": [],
   "source": [
    "# Rename 'Zip' to 'ZipCode' for consistency\n",
    "arrests_by_zip_year = arrests_by_zip_year.rename(columns={'Zip': 'ZipCode'})"
   ]
  },
  {
   "cell_type": "code",
   "execution_count": 11,
   "metadata": {},
   "outputs": [],
   "source": [
    "# Sort the dataframe\n",
    "arrests_by_zip_year = arrests_by_zip_year.sort_values(['ZipCode', 'Year'])"
   ]
  },
  {
   "cell_type": "code",
   "execution_count": 12,
   "metadata": {},
   "outputs": [
    {
     "data": {
      "text/html": [
       "<div>\n",
       "<style scoped>\n",
       "    .dataframe tbody tr th:only-of-type {\n",
       "        vertical-align: middle;\n",
       "    }\n",
       "\n",
       "    .dataframe tbody tr th {\n",
       "        vertical-align: top;\n",
       "    }\n",
       "\n",
       "    .dataframe thead th {\n",
       "        text-align: right;\n",
       "    }\n",
       "</style>\n",
       "<table border=\"1\" class=\"dataframe\">\n",
       "  <thead>\n",
       "    <tr style=\"text-align: right;\">\n",
       "      <th></th>\n",
       "      <th>Year</th>\n",
       "      <th>ZipCode</th>\n",
       "      <th>AvgMonthlyArrests</th>\n",
       "    </tr>\n",
       "  </thead>\n",
       "  <tbody>\n",
       "    <tr>\n",
       "      <th>0</th>\n",
       "      <td>2022</td>\n",
       "      <td>10001</td>\n",
       "      <td>45.666667</td>\n",
       "    </tr>\n",
       "    <tr>\n",
       "      <th>190</th>\n",
       "      <td>2023</td>\n",
       "      <td>10001</td>\n",
       "      <td>52.166667</td>\n",
       "    </tr>\n",
       "    <tr>\n",
       "      <th>1</th>\n",
       "      <td>2022</td>\n",
       "      <td>10002</td>\n",
       "      <td>157.750000</td>\n",
       "    </tr>\n",
       "    <tr>\n",
       "      <th>191</th>\n",
       "      <td>2023</td>\n",
       "      <td>10002</td>\n",
       "      <td>155.916667</td>\n",
       "    </tr>\n",
       "    <tr>\n",
       "      <th>2</th>\n",
       "      <td>2022</td>\n",
       "      <td>10003</td>\n",
       "      <td>151.583333</td>\n",
       "    </tr>\n",
       "    <tr>\n",
       "      <th>...</th>\n",
       "      <td>...</td>\n",
       "      <td>...</td>\n",
       "      <td>...</td>\n",
       "    </tr>\n",
       "    <tr>\n",
       "      <th>377</th>\n",
       "      <td>2023</td>\n",
       "      <td>11693</td>\n",
       "      <td>60.916667</td>\n",
       "    </tr>\n",
       "    <tr>\n",
       "      <th>188</th>\n",
       "      <td>2022</td>\n",
       "      <td>11694</td>\n",
       "      <td>13.083333</td>\n",
       "    </tr>\n",
       "    <tr>\n",
       "      <th>378</th>\n",
       "      <td>2023</td>\n",
       "      <td>11694</td>\n",
       "      <td>16.916667</td>\n",
       "    </tr>\n",
       "    <tr>\n",
       "      <th>189</th>\n",
       "      <td>2022</td>\n",
       "      <td>11697</td>\n",
       "      <td>1.833333</td>\n",
       "    </tr>\n",
       "    <tr>\n",
       "      <th>379</th>\n",
       "      <td>2023</td>\n",
       "      <td>11697</td>\n",
       "      <td>2.200000</td>\n",
       "    </tr>\n",
       "  </tbody>\n",
       "</table>\n",
       "<p>380 rows × 3 columns</p>\n",
       "</div>"
      ],
      "text/plain": [
       "     Year  ZipCode  AvgMonthlyArrests\n",
       "0    2022    10001          45.666667\n",
       "190  2023    10001          52.166667\n",
       "1    2022    10002         157.750000\n",
       "191  2023    10002         155.916667\n",
       "2    2022    10003         151.583333\n",
       "..    ...      ...                ...\n",
       "377  2023    11693          60.916667\n",
       "188  2022    11694          13.083333\n",
       "378  2023    11694          16.916667\n",
       "189  2022    11697           1.833333\n",
       "379  2023    11697           2.200000\n",
       "\n",
       "[380 rows x 3 columns]"
      ]
     },
     "execution_count": 12,
     "metadata": {},
     "output_type": "execute_result"
    }
   ],
   "source": [
    "arrests_by_zip_year"
   ]
  },
  {
   "cell_type": "code",
   "execution_count": 13,
   "metadata": {},
   "outputs": [],
   "source": [
    "# Save to CSV\n",
    "arrests_by_zip_year.to_csv('cleaned_arrest_data.csv', index=False)"
   ]
  }
 ],
 "metadata": {
  "kernelspec": {
   "display_name": "Python 3",
   "language": "python",
   "name": "python3"
  },
  "language_info": {
   "codemirror_mode": {
    "name": "ipython",
    "version": 3
   },
   "file_extension": ".py",
   "mimetype": "text/x-python",
   "name": "python",
   "nbconvert_exporter": "python",
   "pygments_lexer": "ipython3",
   "version": "3.12.2"
  }
 },
 "nbformat": 4,
 "nbformat_minor": 2
}
