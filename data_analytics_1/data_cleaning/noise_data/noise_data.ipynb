{
 "cells": [
  {
   "cell_type": "code",
   "execution_count": 1,
   "metadata": {},
   "outputs": [],
   "source": [
    "import pandas as pd\n",
    "import numpy as np\n",
    "import re"
   ]
  },
  {
   "cell_type": "code",
   "execution_count": 2,
   "metadata": {},
   "outputs": [],
   "source": [
    "df_noise = pd.read_csv('noise_data.csv')"
   ]
  },
  {
   "cell_type": "code",
   "execution_count": 3,
   "metadata": {},
   "outputs": [],
   "source": [
    "df_noise['Created Date'] = pd.to_datetime(df_noise['Created Date'])"
   ]
  },
  {
   "cell_type": "code",
   "execution_count": 4,
   "metadata": {},
   "outputs": [],
   "source": [
    "# Function to validate zip codes\n",
    "def is_valid_zip(zip_code):\n",
    "    return bool(re.match(r'^\\d{5}$', str(zip_code)))\n",
    "\n",
    "# Remove invalid zips\n",
    "df_noise = df_noise[df_noise['Incident Zip'].apply(is_valid_zip)]"
   ]
  },
  {
   "cell_type": "code",
   "execution_count": 5,
   "metadata": {},
   "outputs": [],
   "source": [
    "# Create Year and Month columns\n",
    "df_noise['Year'] = df_noise['Created Date'].dt.year\n",
    "df_noise['Month'] = df_noise['Created Date'].dt.month"
   ]
  },
  {
   "cell_type": "code",
   "execution_count": 6,
   "metadata": {},
   "outputs": [],
   "source": [
    "# Group by Year, Zip, and Month, then count noise complaints\n",
    "noise_by_zip_month = df_noise.groupby(['Year', 'Incident Zip', 'Month']).size().reset_index(name='NoiseComplaintCount')"
   ]
  },
  {
   "cell_type": "code",
   "execution_count": 7,
   "metadata": {},
   "outputs": [],
   "source": [
    "# Calculate average monthly counts for each year and zipcode\n",
    "noise_by_zip_year = noise_by_zip_month.groupby(['Year', 'Incident Zip'])['NoiseComplaintCount'].mean().reset_index(name='AvgMonthlyNoiseComplaints')"
   ]
  },
  {
   "cell_type": "code",
   "execution_count": 8,
   "metadata": {},
   "outputs": [],
   "source": [
    "# Rename 'Incident Zip' to 'ZipCode' for consistency\n",
    "noise_by_zip_year = noise_by_zip_year.rename(columns={'Incident Zip': 'ZipCode'})"
   ]
  },
  {
   "cell_type": "code",
   "execution_count": 9,
   "metadata": {},
   "outputs": [],
   "source": [
    "# Sort the dataframe\n",
    "noise_by_zip_year = noise_by_zip_year.sort_values(['ZipCode', 'Year'])"
   ]
  },
  {
   "cell_type": "code",
   "execution_count": 10,
   "metadata": {},
   "outputs": [],
   "source": [
    "noise_by_zip_year.to_csv('cleaned_noise_data.csv', index=False)"
   ]
  }
 ],
 "metadata": {
  "kernelspec": {
   "display_name": "Python 3",
   "language": "python",
   "name": "python3"
  },
  "language_info": {
   "codemirror_mode": {
    "name": "ipython",
    "version": 3
   },
   "file_extension": ".py",
   "mimetype": "text/x-python",
   "name": "python",
   "nbconvert_exporter": "python",
   "pygments_lexer": "ipython3",
   "version": "3.12.2"
  }
 },
 "nbformat": 4,
 "nbformat_minor": 2
}
